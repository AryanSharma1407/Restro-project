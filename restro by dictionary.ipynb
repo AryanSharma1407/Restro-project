{
 "cells": [
  {
   "cell_type": "code",
   "execution_count": null,
   "id": "1d7cf39c-35d2-4619-8ea6-bfe0ef5f5214",
   "metadata": {},
   "outputs": [
    {
     "name": "stdout",
     "output_type": "stream",
     "text": [
      "****WELCOME TO THE TAJ CAFE****\n"
     ]
    },
    {
     "name": "stdin",
     "output_type": "stream",
     "text": [
      "Entre Customer's Name:  piyush\n"
     ]
    },
    {
     "name": "stdout",
     "output_type": "stream",
     "text": [
      "***Menu***\n",
      "|* Pizza - 150 *|\n",
      "|* Burger - 50 *|\n",
      "|* Fries - 50 *|\n",
      "|* Chicken Tikka - 120 *|\n",
      "|* Peri Peri Rolls - 40 *|\n",
      "|* Paneer Tikka - 120 *|\n",
      "|* Momos - 70 *|\n"
     ]
    },
    {
     "name": "stdin",
     "output_type": "stream",
     "text": [
      "Entre order here:  pizza\n",
      "Entre Quantity 2\n",
      "Do you want something else too? no\n"
     ]
    },
    {
     "name": "stdout",
     "output_type": "stream",
     "text": [
      "----------------------------------------\n",
      "Hy: Piyush Your Payable amount is : 300\n",
      "You have ordered ['Pizza'] It will take some time please wait till then\n",
      "Thankyou Piyush\n",
      "----------------------------------------\n"
     ]
    },
    {
     "name": "stdin",
     "output_type": "stream",
     "text": [
      "Next customer? yes\n"
     ]
    },
    {
     "name": "stdout",
     "output_type": "stream",
     "text": [
      "****WELCOME TO THE TAJ CAFE****\n"
     ]
    },
    {
     "name": "stdin",
     "output_type": "stream",
     "text": [
      "Entre Customer's Name:  aryan\n"
     ]
    },
    {
     "name": "stdout",
     "output_type": "stream",
     "text": [
      "***Menu***\n",
      "|* Pizza - 150 *|\n",
      "|* Burger - 50 *|\n",
      "|* Fries - 50 *|\n",
      "|* Chicken Tikka - 120 *|\n",
      "|* Peri Peri Rolls - 40 *|\n",
      "|* Paneer Tikka - 120 *|\n",
      "|* Momos - 70 *|\n"
     ]
    },
    {
     "name": "stdin",
     "output_type": "stream",
     "text": [
      "Entre order here:  pizza\n",
      "Entre Quantity 2\n",
      "Do you want something else too? yes\n",
      "Entre order here:  peri peri rolls\n",
      "Entre Quantity 3\n",
      "Do you want something else too? no\n"
     ]
    },
    {
     "name": "stdout",
     "output_type": "stream",
     "text": [
      "----------------------------------------\n",
      "Hy: Aryan Your Payable amount is : 1020\n",
      "You have ordered ['Pizza', 'Peri Peri Rolls'] It will take some time please wait till then\n",
      "Thankyou Aryan\n",
      "----------------------------------------\n"
     ]
    }
   ],
   "source": [
    "restro = {\"Pizza\":150, \"Burger\":50, \"Fries\":50,\"Chicken Tikka\":120,\"Peri Peri Rolls\":40, \"Paneer Tikka\": 120, \"Momos\": 70}\n",
    "bill = 0\n",
    "order = {}\n",
    "while True:\n",
    "    print (\"****WELCOME TO THE TAJ CAFE****\")\n",
    "    a= input(\"Entre Customer's Name: \").title()\n",
    "    \n",
    "    print(\"***Menu***\")\n",
    "    \n",
    "    for i,j in restro.items():\n",
    "        print(\"|*\",i,\"-\",j,\"*|\")\n",
    "    w = []   \n",
    "    while True:\n",
    "        choice= input(\"Entre order here: \").title()\n",
    "        quantity = int(input(\"Entre Quantity\"))\n",
    "        bill += restro[choice]\n",
    "        w.append(choice)\n",
    "        order[a]=w\n",
    "        more = input(\"Do you want something else too?\")\n",
    "        if more == \"no\":\n",
    "            \n",
    "            break\n",
    "    print(\"-\"*40)\n",
    "    print(\"Hy:\", a,\"Your Payable amount is :\", bill*quantity)\n",
    "    print(\"You have ordered\",w, \"It will take some time please wait till then\")\n",
    "    print(\"Thankyou\",a)\n",
    "    print(\"-\"*40)\n",
    "    next = input(\"Next customer?\")\n",
    "    if next == \"no\":\n",
    "        break"
   ]
  },
  {
   "cell_type": "code",
   "execution_count": null,
   "id": "cbd08f47-bebd-4b41-8a03-00e1b60ace21",
   "metadata": {},
   "outputs": [],
   "source": []
  }
 ],
 "metadata": {
  "kernelspec": {
   "display_name": "Python 3 (ipykernel)",
   "language": "python",
   "name": "python3"
  },
  "language_info": {
   "codemirror_mode": {
    "name": "ipython",
    "version": 3
   },
   "file_extension": ".py",
   "mimetype": "text/x-python",
   "name": "python",
   "nbconvert_exporter": "python",
   "pygments_lexer": "ipython3",
   "version": "3.11.6"
  }
 },
 "nbformat": 4,
 "nbformat_minor": 5
}
